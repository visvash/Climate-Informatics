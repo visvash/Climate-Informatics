{
 "cells": [
  {
   "cell_type": "code",
   "execution_count": 6,
   "metadata": {},
   "outputs": [],
   "source": [
    "# import xarray as xr"
   ]
  },
  {
   "cell_type": "code",
   "execution_count": 7,
   "metadata": {},
   "outputs": [],
   "source": [
    "# ds = xr.open_dataset(\"filename.nc\")\n",
    "# ds"
   ]
  },
  {
   "cell_type": "code",
   "execution_count": 1,
   "metadata": {},
   "outputs": [],
   "source": [
    "# to select from value\n",
    "# ds.sel(latitude=-82)\n",
    "# ds.sel(latitude=-82, latitude=5.75, time=\"2018-01-01\")\n",
    "# if not present \"KEY ERROR\" will be returned"
   ]
  },
  {
   "cell_type": "code",
   "execution_count": 2,
   "metadata": {},
   "outputs": [],
   "source": [
    "# to make approx output\n",
    "# ds.sel(latitude=-99, method=\"nearest\")"
   ]
  },
  {
   "cell_type": "code",
   "execution_count": 3,
   "metadata": {},
   "outputs": [],
   "source": [
    "# we can pass a list as well\n",
    "# ds.sel(latitude=[-16,-15], longitude=[-46,47], method=\"nearest\")"
   ]
  },
  {
   "cell_type": "code",
   "execution_count": 4,
   "metadata": {},
   "outputs": [],
   "source": [
    "# to select from index\n",
    "# ds.isel(latitude=0, longitude=0) #first latitude & first longitude"
   ]
  },
  {
   "cell_type": "code",
   "execution_count": 5,
   "metadata": {},
   "outputs": [],
   "source": [
    "# where method\n",
    "# QUERY = ds.longitude<-64\n",
    "# QUERY = QUERY & (ds.latitude>-8)\n",
    "# ds.where(QUERY, drop=True)"
   ]
  },
  {
   "cell_type": "code",
   "execution_count": 8,
   "metadata": {},
   "outputs": [],
   "source": [
    "# to visualize multidimensional & geospatial variables\n",
    "# ds.skt.plot()\n",
    "# ds.isel(time=0).skt.plot()\n",
    "# ds.isel(time=0).lai_hv.plot()\n",
    "# ds.isel(longitude=0, latitude=0).skt.plot()\n",
    "# ds.isel(time=0).sel(longitude=-59, method=\"nearest\").skt.plot()"
   ]
  },
  {
   "cell_type": "code",
   "execution_count": 9,
   "metadata": {},
   "outputs": [],
   "source": [
    "# to apply simple operations over multidimensional data\n",
    "\n",
    "# suppose we want to study the difference in temperature between 1jan2019 and 1jan1979\n",
    "# and plot it\n",
    "\n",
    "# temp_change = (ds.skt.sel(time='2019-01-01')-ds.skt.sel(time='1979-01-01'))\n",
    "# temp_change\n",
    "# temp_change.plot()"
   ]
  },
  {
   "cell_type": "code",
   "execution_count": 10,
   "metadata": {},
   "outputs": [],
   "source": [
    "# ds.skt.mean()\n",
    "# mean_temp = ds.skt.mean(dim='time')\n",
    "# mean_temp\n",
    "# mean_temp.plot()"
   ]
  },
  {
   "cell_type": "code",
   "execution_count": 11,
   "metadata": {},
   "outputs": [],
   "source": [
    "# ds.skt.mean(dim=['time','longitude']).plot()"
   ]
  },
  {
   "cell_type": "code",
   "execution_count": 12,
   "metadata": {},
   "outputs": [],
   "source": [
    "# ds.skt.std(dim='time').plot()   #std = standard deviation"
   ]
  },
  {
   "cell_type": "code",
   "execution_count": 13,
   "metadata": {},
   "outputs": [],
   "source": [
    "# ds.skt.median(dim=['latitude','longitude']).plot()"
   ]
  },
  {
   "cell_type": "code",
   "execution_count": 14,
   "metadata": {},
   "outputs": [],
   "source": [
    "# apply group operations over multidimensional data\n",
    "# (ds.groupby(ds.time.dt.year)\n",
    "#    .mean(dim=['time','latitude','longitude'])\n",
    "#    .skt)\n",
    "# (ds.groupby(ds.time.dt.year)\n",
    "#    .mean(dim=['time','latitude','longitude'])\n",
    "#    .skt\n",
    "#    .plot())"
   ]
  },
  {
   "cell_type": "code",
   "execution_count": 15,
   "metadata": {},
   "outputs": [],
   "source": [
    "# (ds.groupby(ds.time.dt.month)\n",
    "#    .mean(dim=['time','latitude','longitude'])\n",
    "#    .skt\n",
    "#    .plot())"
   ]
  },
  {
   "cell_type": "code",
   "execution_count": 16,
   "metadata": {},
   "outputs": [],
   "source": [
    "# (ds.groupby(ds.time.dt.month)\n",
    "#    .mean(dim=['time','latitude','longitude'])\n",
    "#    .lai_hv\n",
    "#    .plot())"
   ]
  },
  {
   "cell_type": "code",
   "execution_count": 17,
   "metadata": {},
   "outputs": [],
   "source": [
    "# (ds.resample({'time':'10y'})\n",
    "#    .mean(dim=['time','latitude','longitude'])\n",
    "#    .skt\n",
    "#    .plot())"
   ]
  },
  {
   "cell_type": "code",
   "execution_count": 18,
   "metadata": {},
   "outputs": [],
   "source": [
    "# to merge and concatenate datasets\n",
    "# da = ds.time.dt.year\n",
    "# da\n",
    "\n",
    "# ds_1 = ds.merge(da)\n",
    "# ds_1"
   ]
  },
  {
   "cell_type": "code",
   "execution_count": 19,
   "metadata": {},
   "outputs": [],
   "source": [
    "# da = ds.longitude**2 + ds.latitude**2\n",
    "# da.name = 'squared_distance'\n",
    "# ds_2 = ds.merge(da)\n",
    "# ds_2"
   ]
  },
  {
   "cell_type": "code",
   "execution_count": 20,
   "metadata": {},
   "outputs": [],
   "source": [
    "# ds3 = ds_1.merge(ds_2)\n",
    "# ds3"
   ]
  },
  {
   "cell_type": "code",
   "execution_count": 22,
   "metadata": {},
   "outputs": [],
   "source": [
    "# Concatenation\n",
    "# ds_square_root = ds_3 ** (1/2)\n",
    "# ds_cube_root = ds_3 **(1/3)\n",
    "# ds_4 =xr.concat([ds_3, ds_square_root, ds_cube_root], \"dim_power\")"
   ]
  },
  {
   "cell_type": "code",
   "execution_count": 24,
   "metadata": {},
   "outputs": [],
   "source": [
    "# ds.sel(time='2019-01-01').tp.plot()\n",
    "# ds_4.sel(dim_power=0, time='2019-01-01').tp.plot()\n",
    "# ds_4.sel(dim_power=1, time='2019-01-01').tp.plot()\n",
    "# ds_4.sel(dim_power=2, time='2019-01-01').tp.plot()"
   ]
  },
  {
   "cell_type": "code",
   "execution_count": null,
   "metadata": {},
   "outputs": [],
   "source": []
  },
  {
   "cell_type": "code",
   "execution_count": 25,
   "metadata": {},
   "outputs": [],
   "source": [
    "# Interact with Pandas and export Datasets\n",
    "# df = ds.to_dataframe()\n",
    "# df"
   ]
  },
  {
   "cell_type": "code",
   "execution_count": 26,
   "metadata": {},
   "outputs": [],
   "source": [
    "# da = ds.time.dt.month\n",
    "# da.to_dataframe()"
   ]
  },
  {
   "cell_type": "code",
   "execution_count": 27,
   "metadata": {},
   "outputs": [],
   "source": [
    "# da.to_series()"
   ]
  },
  {
   "cell_type": "code",
   "execution_count": 28,
   "metadata": {},
   "outputs": [],
   "source": [
    "# xr.Dataset.from_dataframe(df)"
   ]
  },
  {
   "cell_type": "code",
   "execution_count": 29,
   "metadata": {},
   "outputs": [],
   "source": [
    "# xr.DataArray.from_series(df.skt)"
   ]
  },
  {
   "cell_type": "code",
   "execution_count": 30,
   "metadata": {},
   "outputs": [],
   "source": [
    "# ds.to_netcdf('export.nc')"
   ]
  },
  {
   "cell_type": "code",
   "execution_count": null,
   "metadata": {},
   "outputs": [],
   "source": []
  }
 ],
 "metadata": {
  "kernelspec": {
   "display_name": "Python 3",
   "language": "python",
   "name": "python3"
  },
  "language_info": {
   "codemirror_mode": {
    "name": "ipython",
    "version": 3
   },
   "file_extension": ".py",
   "mimetype": "text/x-python",
   "name": "python",
   "nbconvert_exporter": "python",
   "pygments_lexer": "ipython3",
   "version": "3.7.4"
  }
 },
 "nbformat": 4,
 "nbformat_minor": 2
}

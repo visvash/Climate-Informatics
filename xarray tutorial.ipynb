{
 "cells": [
  {
   "cell_type": "code",
   "execution_count": 6,
   "metadata": {},
   "outputs": [],
   "source": [
    "# import xarray as xr"
   ]
  },
  {
   "cell_type": "code",
   "execution_count": 7,
   "metadata": {},
   "outputs": [],
   "source": [
    "# ds = xr.open_dataset(\"filename.nc\")\n",
    "# ds"
   ]
  },
  {
   "cell_type": "code",
   "execution_count": 1,
   "metadata": {},
   "outputs": [],
   "source": [
    "# to select from value\n",
    "# ds.sel(latitude=-82)\n",
    "# ds.sel(latitude=-82, latitude=5.75, time=\"2018-01-01\")\n",
    "# if not present \"KEY ERROR\" will be returned"
   ]
  },
  {
   "cell_type": "code",
   "execution_count": 2,
   "metadata": {},
   "outputs": [],
   "source": [
    "# to make approx output\n",
    "# ds.sel(latitude=-99, method=\"nearest\")"
   ]
  },
  {
   "cell_type": "code",
   "execution_count": 3,
   "metadata": {},
   "outputs": [],
   "source": [
    "# we can pass a list as well\n",
    "# ds.sel(latitude=[-16,-15], longitude=[-46,47], method=\"nearest\")"
   ]
  },
  {
   "cell_type": "code",
   "execution_count": 4,
   "metadata": {},
   "outputs": [],
   "source": [
    "# to select from index\n",
    "# ds.isel(latitude=0, longitude=0) #first latitude & first longitude"
   ]
  },
  {
   "cell_type": "code",
   "execution_count": 5,
   "metadata": {},
   "outputs": [],
   "source": [
    "# where method\n",
    "# QUERY = ds.longitude<-64\n",
    "# QUERY = QUERY & (ds.latitude>-8)\n",
    "# ds.where(QUERY, drop=True)"
   ]
  },
  {
   "cell_type": "code",
   "execution_count": 8,
   "metadata": {},
   "outputs": [],
   "source": [
    "# to visualize multidimensional & geospatial variables\n",
    "# ds.skt.plot()\n",
    "# ds.isel(time=0).skt.plot()\n",
    "# ds.isel(time=0).lai_hv.plot()\n",
    "# ds.isel(longitude=0, latitude=0).skt.plot()\n",
    "# ds.isel(time=0).sel(longitude=-59, method=\"nearest\").skt.plot()"
   ]
  },
  {
   "cell_type": "code",
   "execution_count": 9,
   "metadata": {},
   "outputs": [],
   "source": [
    "# to apply simple operations over multidimensional data\n",
    "\n",
    "# suppose we want to study the difference in temperature between 1jan2019 and 1jan1979\n",
    "# and plot it\n",
    "\n",
    "# temp_change = (ds.skt.sel(time='2019-01-01')-ds.skt.sel(time='1979-01-01'))\n",
    "# temp_change\n",
    "# temp_change.plot()"
   ]
  },
  {
   "cell_type": "code",
   "execution_count": 10,
   "metadata": {},
   "outputs": [],
   "source": [
    "# ds.skt.mean()\n",
    "# mean_temp = ds.skt.mean(dim='time')\n",
    "# mean_temp\n",
    "# mean_temp.plot()"
   ]
  },
  {
   "cell_type": "code",
   "execution_count": 11,
   "metadata": {},
   "outputs": [],
   "source": [
    "# ds.skt.mean(dim=['time','longitude']).plot()"
   ]
  },
  {
   "cell_type": "code",
   "execution_count": 12,
   "metadata": {},
   "outputs": [],
   "source": [
    "# ds.skt.std(dim='time').plot()   #std = standard deviation"
   ]
  },
  {
   "cell_type": "code",
   "execution_count": null,
   "metadata": {},
   "outputs": [],
   "source": [
    "# ds.skt.median(dim=['latitude','longitude']).plot()"
   ]
  }
 ],
 "metadata": {
  "kernelspec": {
   "display_name": "Python 3",
   "language": "python",
   "name": "python3"
  },
  "language_info": {
   "codemirror_mode": {
    "name": "ipython",
    "version": 3
   },
   "file_extension": ".py",
   "mimetype": "text/x-python",
   "name": "python",
   "nbconvert_exporter": "python",
   "pygments_lexer": "ipython3",
   "version": "3.7.4"
  }
 },
 "nbformat": 4,
 "nbformat_minor": 2
}
